{
 "cells": [
  {
   "cell_type": "code",
   "execution_count": 1,
   "metadata": {},
   "outputs": [
    {
     "name": "stdout",
     "output_type": "stream",
     "text": [
      "enter number 1 25\n",
      "enter number 2 30\n",
      "55\n",
      "34\n"
     ]
    }
   ],
   "source": [
    "# Task 11.2\n",
    "\n",
    "#Explain Return keyword with example?\n",
    "\n",
    "#Ans: A return statement is used to end the execution of the function call and \"returns\" the result to the caller.\n",
    "# The statements after the return statements are not executed.\n",
    "\n",
    "def add(a,b):\n",
    "    x=a+b\n",
    "    print(x)\n",
    "#print(x)won't be executed,only once x will be obtained in output\n",
    "\n",
    "num1=int(input(\"enter number 1\"))\n",
    "num2=int(input(\"enter number 2\"))\n",
    "\n",
    "add(num1,num2)\n",
    "add(12,22)"
   ]
  },
  {
   "cell_type": "code",
   "execution_count": 2,
   "metadata": {},
   "outputs": [
    {
     "name": "stdout",
     "output_type": "stream",
     "text": [
      "enter number 1 25\n",
      "enter number 2 20\n",
      "enter the operator key 3\n",
      "500\n"
     ]
    }
   ],
   "source": [
    "# Task 11.2\n",
    "\n",
    "\n",
    "#Ask 2 numbers from users and store it in num1 and num2\n",
    "#Ask user to press 1 for addition,2 for subtraction,3 for multiplication and 4 for division\n",
    "#create 4 seperate functions for each operation (i.e. addition,subtraction,multiplication and division)\n",
    "#based on number given by user,call that perticular function and print the output\n",
    "\n",
    "num1=int(input(\"enter number 1\"))\n",
    "num2=int(input(\"enter number 2\"))\n",
    "key=int(input(\"enter the operator key\"))\n",
    "\n",
    "def add(a,b):\n",
    "    x=a+b\n",
    "    print(x)\n",
    "def sub(a,b):\n",
    "    y=a-b\n",
    "    print(y)\n",
    "def mul(a,b):\n",
    "    z=a*b\n",
    "    print(z)\n",
    "def div(a,b):\n",
    "    k=a/b\n",
    "    print(k)\n",
    "    \n",
    "if (key==1):\n",
    "    add(num1,num2)\n",
    "elif(key==2):\n",
    "    sub(num1,num2)\n",
    "elif(key==3):\n",
    "    mul(num1,num2)\n",
    "elif(key==4):\n",
    "    div(num1,num2)\n",
    "else:\n",
    "    print(\"invalid key\")"
   ]
  },
  {
   "cell_type": "code",
   "execution_count": null,
   "metadata": {},
   "outputs": [],
   "source": []
  }
 ],
 "metadata": {
  "kernelspec": {
   "display_name": "Python 3",
   "language": "python",
   "name": "python3"
  },
  "language_info": {
   "codemirror_mode": {
    "name": "ipython",
    "version": 3
   },
   "file_extension": ".py",
   "mimetype": "text/x-python",
   "name": "python",
   "nbconvert_exporter": "python",
   "pygments_lexer": "ipython3",
   "version": "3.8.5"
  }
 },
 "nbformat": 4,
 "nbformat_minor": 4
}
