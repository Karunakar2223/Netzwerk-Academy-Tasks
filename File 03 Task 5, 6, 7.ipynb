{
 "cells": [
  {
   "cell_type": "code",
   "execution_count": null,
   "metadata": {},
   "outputs": [],
   "source": [
    "# Task 5\n",
    "\n",
    "dict1 = {\n",
    "    \"april_batch\":{\n",
    "        \"student\":{\n",
    "            \"name\":\"Mike\",\n",
    "            \"marks\":{\n",
    "                \"python\":80,\n",
    "                \"maths\":70\n",
    "            }\n",
    "        }\n",
    "    }\n",
    "}\n",
    "\n",
    "From the above dictionary, do the following tasks\n",
    "1.access \"Mike\"\n",
    "2.access 80\n",
    "3.change \"Mike\" to \"Your name\"\n",
    "4.add ML = 80 and Dl = 80"
   ]
  },
  {
   "cell_type": "code",
   "execution_count": 7,
   "metadata": {},
   "outputs": [
    {
     "name": "stdout",
     "output_type": "stream",
     "text": [
      "Mike 80 {'april_batch': {'student': {'name': 'Reddy', 'marks': {'python': 80, 'maths': 70, 'ML': 80, 'DL': 80}}}}\n"
     ]
    }
   ],
   "source": [
    "dict1 = {\n",
    "    \"april_batch\":{\n",
    "        \"student\":{\n",
    "            \"name\":\"Mike\",\n",
    "            \"marks\":{\n",
    "                \"python\":80,\n",
    "                \"maths\":70\n",
    "            }\n",
    "        }\n",
    "    }\n",
    "}\n",
    "k = dict1[\"april_batch\"][\"student\"][\"name\"]\n",
    "l = dict1[\"april_batch\"][\"student\"][\"marks\"][\"python\"]\n",
    "dict1[\"april_batch\"][\"student\"][\"name\"]=\"Reddy\"\n",
    "dict1[\"april_batch\"][\"student\"][\"marks\"][\"ML\"]=80\n",
    "dict1[\"april_batch\"][\"student\"][\"marks\"][\"DL\"]=80\n",
    "print(k,l, dict1)"
   ]
  },
  {
   "cell_type": "code",
   "execution_count": null,
   "metadata": {},
   "outputs": [],
   "source": [
    "# \"Task6 - Add and remove elements from a Tuple\"."
   ]
  },
  {
   "cell_type": "code",
   "execution_count": 1,
   "metadata": {},
   "outputs": [
    {
     "name": "stdout",
     "output_type": "stream",
     "text": [
      "(67, 75, 55, 80, 89, 99)\n"
     ]
    }
   ],
   "source": [
    "tup=(67,75,55,80,89)\n",
    "lis=list(tup)\n",
    "lis.append(99)\n",
    "tup2=tuple(lis)\n",
    "print(tup2)"
   ]
  },
  {
   "cell_type": "code",
   "execution_count": 3,
   "metadata": {},
   "outputs": [
    {
     "name": "stdout",
     "output_type": "stream",
     "text": [
      "(67, 75, 80, 89, 99)\n"
     ]
    }
   ],
   "source": [
    "lis2=list(tup2)\n",
    "lis2.remove(55)\n",
    "tup3=tuple(lis2)\n",
    "print(tup3)"
   ]
  },
  {
   "cell_type": "code",
   "execution_count": null,
   "metadata": {},
   "outputs": [],
   "source": [
    "# Task 7\n",
    "# \"go through other inbuilt methods like\"\n",
    "1)difference() 2)symmetric_difference()"
   ]
  },
  {
   "cell_type": "code",
   "execution_count": 4,
   "metadata": {},
   "outputs": [
    {
     "name": "stdout",
     "output_type": "stream",
     "text": [
      "{'a', 'b'}\n",
      "{'e'}\n"
     ]
    }
   ],
   "source": [
    "A={'a','b','c','d'}\n",
    "B={'c','d','e'}\n",
    "print(A.difference(B))\n",
    "print(B.difference(A))"
   ]
  },
  {
   "cell_type": "code",
   "execution_count": 5,
   "metadata": {},
   "outputs": [
    {
     "name": "stdout",
     "output_type": "stream",
     "text": [
      "{'e', 'a', 'b'}\n",
      "{'e', 'a', 'b'}\n"
     ]
    }
   ],
   "source": [
    "A={'a','b','c','d'}\n",
    "B={'c','d','e'}\n",
    "print(A.symmetric_difference(B))\n",
    "print(B.symmetric_difference(A))"
   ]
  }
 ],
 "metadata": {
  "kernelspec": {
   "display_name": "Python 3",
   "language": "python",
   "name": "python3"
  },
  "language_info": {
   "codemirror_mode": {
    "name": "ipython",
    "version": 3
   },
   "file_extension": ".py",
   "mimetype": "text/x-python",
   "name": "python",
   "nbconvert_exporter": "python",
   "pygments_lexer": "ipython3",
   "version": "3.8.5"
  }
 },
 "nbformat": 4,
 "nbformat_minor": 4
}
