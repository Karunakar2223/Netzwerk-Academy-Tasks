{
 "cells": [
  {
   "cell_type": "code",
   "execution_count": null,
   "metadata": {},
   "outputs": [],
   "source": [
    "Task 10\n",
    "\n",
    "# using whlie loop print numbers from 10 to 1.\n",
    "# try using for loop to loop over tuples,sets and dictionaries."
   ]
  },
  {
   "cell_type": "code",
   "execution_count": 1,
   "metadata": {},
   "outputs": [
    {
     "name": "stdout",
     "output_type": "stream",
     "text": [
      "10\n",
      "9\n",
      "8\n",
      "7\n",
      "6\n",
      "5\n",
      "4\n",
      "3\n",
      "2\n",
      "1\n"
     ]
    }
   ],
   "source": [
    "# using whlie loop print numbers from 10 to 1.\n",
    "\n",
    "i=10\n",
    "while(i>0):\n",
    "    print(i)\n",
    "    i=i-1"
   ]
  },
  {
   "cell_type": "code",
   "execution_count": 5,
   "metadata": {},
   "outputs": [
    {
     "name": "stdout",
     "output_type": "stream",
     "text": [
      "k\n",
      "r\n",
      "22\n",
      "Reddy\n",
      "222.3\n",
      "Netzwerk\n",
      "Reddy\n",
      "profession\n"
     ]
    }
   ],
   "source": [
    "# try using for loop to loop over tuples,sets and dictionaries.\n",
    "\n",
    "set={\"k\",\"r\",}\n",
    "tup=(22,\"Reddy\",222.3)\n",
    "dict={\"Netzwerk\":\"institute\",\"Reddy\":\"student\",\"profession\":\"Analyst\"}\n",
    "\n",
    "for i in set:\n",
    "    print(i)\n",
    "\n",
    "    \n",
    "for j in tup:\n",
    "    print(j)\n",
    "\n",
    "\n",
    "for item in dict:\n",
    "    print(item)\n",
    "\n",
    "\n"
   ]
  },
  {
   "cell_type": "code",
   "execution_count": null,
   "metadata": {},
   "outputs": [],
   "source": []
  },
  {
   "cell_type": "code",
   "execution_count": null,
   "metadata": {},
   "outputs": [],
   "source": [
    "#Task 10.1\n",
    "\n",
    "#what is the usage of continue with an example?\n",
    "\n",
    "Ans: when we need to skip a particular iteraton in a loop execution, we need to use a continue keyword"
   ]
  },
  {
   "cell_type": "code",
   "execution_count": null,
   "metadata": {},
   "outputs": [],
   "source": [
    "# To print multiple of 2 in the given range\n",
    "\n",
    "for i in range(0,20):\n",
    "    if(i%2!=0):\n",
    "        continue\n",
    "    else:\n",
    "        print(i)"
   ]
  },
  {
   "cell_type": "code",
   "execution_count": null,
   "metadata": {},
   "outputs": [],
   "source": [
    "# Task 10.2\n",
    "\n",
    "#what is pass keyword, with an example?\n",
    "\n",
    "Ans : Pass keyword is used to avoid empty code blocks in loop functions, just to escape from getting an error."
   ]
  },
  {
   "cell_type": "code",
   "execution_count": null,
   "metadata": {},
   "outputs": [],
   "source": [
    "lst=['Reddy','netzwerk','banglore','karnataka']\n",
    "for i in lst:\n",
    "    print(i)\n",
    "    pass"
   ]
  },
  {
   "cell_type": "code",
   "execution_count": null,
   "metadata": {},
   "outputs": [],
   "source": [
    "if ('I'<'i'):\n",
    "    print('ok')\n",
    "else:\n",
    "    pass"
   ]
  },
  {
   "cell_type": "code",
   "execution_count": null,
   "metadata": {},
   "outputs": [],
   "source": []
  }
 ],
 "metadata": {
  "kernelspec": {
   "display_name": "Python 3",
   "language": "python",
   "name": "python3"
  },
  "language_info": {
   "codemirror_mode": {
    "name": "ipython",
    "version": 3
   },
   "file_extension": ".py",
   "mimetype": "text/x-python",
   "name": "python",
   "nbconvert_exporter": "python",
   "pygments_lexer": "ipython3",
   "version": "3.8.5"
  }
 },
 "nbformat": 4,
 "nbformat_minor": 4
}
