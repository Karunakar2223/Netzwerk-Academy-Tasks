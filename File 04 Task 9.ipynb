{
 "cells": [
  {
   "cell_type": "code",
   "execution_count": null,
   "id": "ba98e7b5",
   "metadata": {},
   "outputs": [],
   "source": [
    "# Task 9\n",
    "#1)Ask two numbers from user and store it in num1 and num2\n",
    "#2)ask user to press 1 for addition, 2 for subtraction, 3 for multiplication and 4 for division\n",
    "#3)based on number given by user do the math operation."
   ]
  },
  {
   "cell_type": "code",
   "execution_count": 1,
   "id": "c269b014",
   "metadata": {},
   "outputs": [
    {
     "name": "stdout",
     "output_type": "stream",
     "text": [
      "enter number 1 22\n",
      "enter number 2 23 \n",
      "enter operator key 1\n",
      "45\n"
     ]
    }
   ],
   "source": [
    "num1 = int(input(\"enter number 1\"))\n",
    "num2 = int(input(\"enter number 2\"))\n",
    "key = int(input(\"enter operator key\"))\n",
    "\n",
    "if (key==1):\n",
    "    print(num1+num2)\n",
    "elif(key==2):\n",
    "    print(num1-num2)\n",
    "elif(key==3):\n",
    "    print(num1*num2)\n",
    "elif(key==4):\n",
    "    print(num1/num2)\n",
    "else:\n",
    "    print(\"Invalid key\")"
   ]
  },
  {
   "cell_type": "code",
   "execution_count": null,
   "id": "9bf972a2",
   "metadata": {},
   "outputs": [],
   "source": []
  }
 ],
 "metadata": {
  "kernelspec": {
   "display_name": "Python 3",
   "language": "python",
   "name": "python3"
  },
  "language_info": {
   "codemirror_mode": {
    "name": "ipython",
    "version": 3
   },
   "file_extension": ".py",
   "mimetype": "text/x-python",
   "name": "python",
   "nbconvert_exporter": "python",
   "pygments_lexer": "ipython3",
   "version": "3.8.8"
  }
 },
 "nbformat": 4,
 "nbformat_minor": 5
}
